{
  "nbformat": 4,
  "nbformat_minor": 0,
  "metadata": {
    "colab": {
      "name": "Untitled",
      "provenance": [],
      "collapsed_sections": [],
      "authorship_tag": "ABX9TyO7FHQbqbKl5WBriJ7iRf8c",
      "include_colab_link": true
    },
    "kernelspec": {
      "name": "python3",
      "display_name": "Python 3"
    }
  },
  "cells": [
    {
      "cell_type": "markdown",
      "metadata": {
        "id": "view-in-github",
        "colab_type": "text"
      },
      "source": [
        "<a href=\"https://colab.research.google.com/github/Jesus-Gonzalez-3/hacking-civico/blob/master/notebooks/01_python.ipynb\" target=\"_parent\"><img src=\"https://colab.research.google.com/assets/colab-badge.svg\" alt=\"Open In Colab\"/></a>"
      ]
    },
    {
      "cell_type": "markdown",
      "metadata": {
        "id": "-wBP2wFIwtVD",
        "colab_type": "text"
      },
      "source": [
        "<p align=\"center\">\n",
        "<img src=\"http://codeandomexico.org/resources/img/codeandomexico.png\" width=\"500\" alt=\"Codeando México\"><br>\n",
        "<a href=\"http://www.codeandomexico.org/\" target=\"_blank\"><img src=\"https://img.shields.io/badge/website-CodeandoMexico-00D88E.svg\"></a>\n",
        "<a href=\"http://slack.codeandomexico.org/\" target=\"_blank\"><img src=\"https://img.shields.io/badge/slack-CodeandoMexico-EC0E4F.svg\"></a>\n",
        "</p>\n",
        "<!-- __ -->\n",
        "\n",
        "# Curso de Datos Abiertos y Hacking Cívico\n",
        "\n",
        "Este curso tiene como objetivo habilitar las capacidades de la ciudadanía y los servidores públicos en el uso y generación de datos abiertos para el bien común. Está estructurado en tres módulos consecutivos, llamados “_rutas_”, cada una de estas rutas está diseñada para abarcar temas específicos. El curso es virtual de tipo autogestivo.\n",
        "\n",
        "_No se requiere de conocimiento previo sobre los temas, el nivel del curso abarca conceptos básicos a intermedios._\n",
        "\n",
        "1. Ruta Cívica ⚡️ : Conoce qué son los datos abiertos y la tecnología cívica.\n",
        "2. Ruta Coder ⌨️ : Comienza a programar y desarrolla tus primeros hacks cívicos.\n",
        "4. Ruta Hacker 👾 : Pon en uso tus habilidades de programación y desarrollo."
      ]
    },
    {
      "cell_type": "code",
      "metadata": {
        "id": "xLcg8JvQwuhO",
        "colab_type": "code",
        "colab": {
          "base_uri": "https://localhost:8080/",
          "height": 35
        },
        "outputId": "e93383ec-755c-49ae-b04e-a087f68efa39"
      },
      "source": [
        "print(\"Hola mundo desde Python\")"
      ],
      "execution_count": null,
      "outputs": [
        {
          "output_type": "stream",
          "text": [
            "Hola mundo desde Python\n"
          ],
          "name": "stdout"
        }
      ]
    },
    {
      "cell_type": "code",
      "metadata": {
        "id": "74BBEFsG0KZH",
        "colab_type": "code",
        "colab": {
          "base_uri": "https://localhost:8080/",
          "height": 35
        },
        "outputId": "c4e97e05-cb57-40e5-b2d2-855f74cc6cc2"
      },
      "source": [
        "#definir variables\n",
        "poblacion = 12686992\n",
        "print(poblacion)"
      ],
      "execution_count": null,
      "outputs": [
        {
          "output_type": "stream",
          "text": [
            "12686992\n"
          ],
          "name": "stdout"
        }
      ]
    },
    {
      "cell_type": "code",
      "metadata": {
        "id": "8CyW4pAc0S_-",
        "colab_type": "code",
        "colab": {
          "base_uri": "https://localhost:8080/",
          "height": 35
        },
        "outputId": "87618180-9c29-45ee-9d54-ffaf20b9723a"
      },
      "source": [
        "#Variables\n",
        "x=2\n",
        "y=x\n",
        "print(y)"
      ],
      "execution_count": null,
      "outputs": [
        {
          "output_type": "stream",
          "text": [
            "2\n"
          ],
          "name": "stdout"
        }
      ]
    },
    {
      "cell_type": "code",
      "metadata": {
        "id": "StgBPtBe0rDa",
        "colab_type": "code",
        "colab": {
          "base_uri": "https://localhost:8080/",
          "height": 54
        },
        "outputId": "07238e6c-2890-4dc6-f883-0f629e40b0b2"
      },
      "source": [
        "#Tipos de datos\n",
        "numero_1= 4\n",
        "numero_2= 4.0\n",
        "\n",
        "print(type(numero_1))\n",
        "print(type(numero_2))"
      ],
      "execution_count": null,
      "outputs": [
        {
          "output_type": "stream",
          "text": [
            "<class 'int'>\n",
            "<class 'float'>\n"
          ],
          "name": "stdout"
        }
      ]
    },
    {
      "cell_type": "code",
      "metadata": {
        "id": "qVcF6eNH05rp",
        "colab_type": "code",
        "colab": {
          "base_uri": "https://localhost:8080/",
          "height": 54
        },
        "outputId": "269938d2-b1b2-4b0a-f0bf-09039eacb47b"
      },
      "source": [
        "#Tipos de datos\n",
        "suma = 5 + 3.1\n",
        "\n",
        "print(suma)\n",
        "print(type(suma))"
      ],
      "execution_count": null,
      "outputs": [
        {
          "output_type": "stream",
          "text": [
            "8.1\n",
            "<class 'float'>\n"
          ],
          "name": "stdout"
        }
      ]
    },
    {
      "cell_type": "code",
      "metadata": {
        "id": "la2S9x3f1Fly",
        "colab_type": "code",
        "colab": {
          "base_uri": "https://localhost:8080/",
          "height": 90
        },
        "outputId": "d5c34ed7-1733-4f10-812b-2b8560292fa4"
      },
      "source": [
        "#Convertir de Floatante a entero\n",
        "numero_flotante = 3.7\n",
        "numero_flotante= int(numero_flotante)\n",
        "print(numero_flotante)\n",
        "print(type(numero_flotante))\n",
        "\n",
        "# Convertir de entero a flotante \n",
        "numero_entero = 4\n",
        "numero_entero = float(numero_entero)\n",
        "\n",
        "print(numero_entero)\n",
        "print(type(numero_entero))\n"
      ],
      "execution_count": null,
      "outputs": [
        {
          "output_type": "stream",
          "text": [
            "3\n",
            "<class 'int'>\n",
            "4.0\n",
            "<class 'float'>\n"
          ],
          "name": "stdout"
        }
      ]
    },
    {
      "cell_type": "code",
      "metadata": {
        "id": "nj7zKGhy15ns",
        "colab_type": "code",
        "colab": {
          "base_uri": "https://localhost:8080/",
          "height": 54
        },
        "outputId": "0bb5ddb1-fd17-45aa-be1d-50b4d1f1f006"
      },
      "source": [
        "#Strings\n",
        "mensaje_1= \"Hola a todo el mundo\"\n",
        "mensaje_2 ='Bienvenido'\n",
        "print(mensaje_1)\n",
        "print(mensaje_2)"
      ],
      "execution_count": null,
      "outputs": [
        {
          "output_type": "stream",
          "text": [
            "Hola a todo el mundo\n",
            "Bienvenido\n"
          ],
          "name": "stdout"
        }
      ]
    },
    {
      "cell_type": "code",
      "metadata": {
        "id": "iAaNKieI2LSt",
        "colab_type": "code",
        "colab": {
          "base_uri": "https://localhost:8080/",
          "height": 35
        },
        "outputId": "ee331989-6bd2-4652-9b18-72dec6c9fe82"
      },
      "source": [
        "#Strings\n",
        "primera_palabra= \"Hola\"\n",
        "segunda_palabra ='Bienvenido'\n",
        "mensaje = primera_palabra + \" \" + segunda_palabra \n",
        "print(mensaje)"
      ],
      "execution_count": null,
      "outputs": [
        {
          "output_type": "stream",
          "text": [
            "Hola Bienvenido\n"
          ],
          "name": "stdout"
        }
      ]
    },
    {
      "cell_type": "code",
      "metadata": {
        "id": "8zB4Ysch2lCP",
        "colab_type": "code",
        "colab": {
          "base_uri": "https://localhost:8080/",
          "height": 35
        },
        "outputId": "7f50c4e3-a3c7-48dd-add1-7989f2388a7e"
      },
      "source": [
        "#String Repeticion\n",
        "mensaje= \"Hola mundo \"\n",
        "\n",
        "print(mensaje * 3)"
      ],
      "execution_count": null,
      "outputs": [
        {
          "output_type": "stream",
          "text": [
            "Hola mundo Hola mundo Hola mundo \n"
          ],
          "name": "stdout"
        }
      ]
    },
    {
      "cell_type": "code",
      "metadata": {
        "id": "M8k6qlvn22Mj",
        "colab_type": "code",
        "colab": {
          "base_uri": "https://localhost:8080/",
          "height": 146
        },
        "outputId": "ccc332e0-0b0d-4d19-8ca4-56c175b3f806"
      },
      "source": [
        "#Operaciones Aritmeticas\n",
        "\n",
        "suma = 4 + 8\n",
        "resta = 15 - 6\n",
        "multiplicación = 9 * 3\n",
        "divicion = 66 / 2\n",
        "#Este regresa el restante de la divición\n",
        "modulo = 22 % 3 \n",
        "potencia = 2 ** 2\n",
        "#regresa el entero de realizar la operacion con redondeo\n",
        "divicion_entera = 5 // 2 \n",
        "\n",
        "print(suma)\n",
        "print(resta)\n",
        "print(multiplicación)\n",
        "print(divicion)\n",
        "print(modulo)\n",
        "print(potencia)\n",
        "print(divicion_entera)\n"
      ],
      "execution_count": null,
      "outputs": [
        {
          "output_type": "stream",
          "text": [
            "12\n",
            "9\n",
            "27\n",
            "33.0\n",
            "1\n",
            "4\n",
            "2\n"
          ],
          "name": "stdout"
        }
      ]
    },
    {
      "cell_type": "code",
      "metadata": {
        "id": "aeJzKyf14Lau",
        "colab_type": "code",
        "colab": {
          "base_uri": "https://localhost:8080/",
          "height": 35
        },
        "outputId": "eef3ce60-cff0-41c1-f82f-f70edf0d8196"
      },
      "source": [
        "# Operaciones Aritmeticas\n",
        "operacion = 2 + 3 * 5\n",
        "print(operacion)"
      ],
      "execution_count": null,
      "outputs": [
        {
          "output_type": "stream",
          "text": [
            "17\n"
          ],
          "name": "stdout"
        }
      ]
    },
    {
      "cell_type": "code",
      "metadata": {
        "id": "zcTZ32Eq4cMW",
        "colab_type": "code",
        "colab": {
          "base_uri": "https://localhost:8080/",
          "height": 35
        },
        "outputId": "4387dd98-991e-41b1-e57f-1f7820ff4937"
      },
      "source": [
        "#Asignación\n",
        "poblacion = 12686992\n",
        "poblacion = poblacion + 100000\n",
        "print(poblacion)"
      ],
      "execution_count": null,
      "outputs": [
        {
          "output_type": "stream",
          "text": [
            "12786992\n"
          ],
          "name": "stdout"
        }
      ]
    },
    {
      "cell_type": "code",
      "metadata": {
        "id": "PbtoaMKt4w9q",
        "colab_type": "code",
        "colab": {
          "base_uri": "https://localhost:8080/",
          "height": 35
        },
        "outputId": "5f64da63-7499-49bd-ca7e-dfd3bcc403c7"
      },
      "source": [
        "#Asignación\n",
        "poblacion = 12686992\n",
        "poblacion += 100000\n",
        "print(poblacion)"
      ],
      "execution_count": null,
      "outputs": [
        {
          "output_type": "stream",
          "text": [
            "12786992\n"
          ],
          "name": "stdout"
        }
      ]
    },
    {
      "cell_type": "code",
      "metadata": {
        "id": "kz_s7Fi844ks",
        "colab_type": "code",
        "colab": {
          "base_uri": "https://localhost:8080/",
          "height": 35
        },
        "outputId": "f829b5af-2255-4471-d4ff-c4bbee0a9b80"
      },
      "source": [
        "#Asignación\n",
        "poblacion = 12686992\n",
        "poblacion += poblacion + 100000\n",
        "print(poblacion)"
      ],
      "execution_count": null,
      "outputs": [
        {
          "output_type": "stream",
          "text": [
            "25473984\n"
          ],
          "name": "stdout"
        }
      ]
    },
    {
      "cell_type": "code",
      "metadata": {
        "id": "Tcv3UB1X5JPH",
        "colab_type": "code",
        "colab": {
          "base_uri": "https://localhost:8080/",
          "height": 35
        },
        "outputId": "b1123b6d-4466-4f3b-b63c-86e6161ad110"
      },
      "source": [
        "#Comparación\n",
        "\n",
        "x = 18 > 33\n",
        "print(x)"
      ],
      "execution_count": null,
      "outputs": [
        {
          "output_type": "stream",
          "text": [
            "False\n"
          ],
          "name": "stdout"
        }
      ]
    },
    {
      "cell_type": "code",
      "metadata": {
        "id": "mLxVx1Da5ZPf",
        "colab_type": "code",
        "colab": {
          "base_uri": "https://localhost:8080/",
          "height": 35
        },
        "outputId": "3839de05-a247-4844-9c39-c2ac2ed31620"
      },
      "source": [
        "# Operadores Logicos\n",
        "edad = 19\n",
        "adolecente = edad > 12 and edad < 20\n",
        "\n",
        "print(adolecente)"
      ],
      "execution_count": null,
      "outputs": [
        {
          "output_type": "stream",
          "text": [
            "True\n"
          ],
          "name": "stdout"
        }
      ]
    }
  ]
}