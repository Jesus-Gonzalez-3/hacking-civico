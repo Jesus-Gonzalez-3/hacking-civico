{
  "nbformat": 4,
  "nbformat_minor": 0,
  "metadata": {
    "colab": {
      "name": "01-python.ipynb",
      "provenance": [],
      "collapsed_sections": [],
      "authorship_tag": "ABX9TyNmSjtF77B3eDZy6upFQ7xJ",
      "include_colab_link": true
    },
    "kernelspec": {
      "name": "python3",
      "display_name": "Python 3"
    }
  },
  "cells": [
    {
      "cell_type": "markdown",
      "metadata": {
        "id": "view-in-github",
        "colab_type": "text"
      },
      "source": [
        "<a href=\"https://colab.research.google.com/github/Jesus-Gonzalez-3/hacking-civico/blob/master/notebooks/01_python.ipynb\" target=\"_parent\"><img src=\"https://colab.research.google.com/assets/colab-badge.svg\" alt=\"Open In Colab\"/></a>"
      ]
    },
    {
      "cell_type": "markdown",
      "metadata": {
        "id": "-wBP2wFIwtVD",
        "colab_type": "text"
      },
      "source": [
        "<p align=\"center\">\n",
        "<img src=\"http://codeandomexico.org/resources/img/codeandomexico.png\" width=\"500\" alt=\"Codeando México\"><br>\n",
        "<a href=\"http://www.codeandomexico.org/\" target=\"_blank\"><img src=\"https://img.shields.io/badge/website-CodeandoMexico-00D88E.svg\"></a>\n",
        "<a href=\"http://slack.codeandomexico.org/\" target=\"_blank\"><img src=\"https://img.shields.io/badge/slack-CodeandoMexico-EC0E4F.svg\"></a>\n",
        "</p>\n",
        "<!-- __ -->\n",
        "\n",
        "# Curso de Datos Abiertos y Hacking Cívico\n",
        "\n",
        "Este curso tiene como objetivo habilitar las capacidades de la ciudadanía y los servidores públicos en el uso y generación de datos abiertos para el bien común. Está estructurado en tres módulos consecutivos, llamados “_rutas_”, cada una de estas rutas está diseñada para abarcar temas específicos. El curso es virtual de tipo autogestivo.\n",
        "\n",
        "_No se requiere de conocimiento previo sobre los temas, el nivel del curso abarca conceptos básicos a intermedios._\n",
        "\n",
        "1. Ruta Cívica ⚡️ : Conoce qué son los datos abiertos y la tecnología cívica.\n",
        "2. Ruta Coder ⌨️ : Comienza a programar y desarrolla tus primeros hacks cívicos.\n",
        "4. Ruta Hacker 👾 : Pon en uso tus habilidades de programación y desarrollo."
      ]
    },
    {
      "cell_type": "code",
      "metadata": {
        "id": "xLcg8JvQwuhO",
        "colab_type": "code",
        "colab": {
          "base_uri": "https://localhost:8080/",
          "height": 35
        },
        "outputId": "e93383ec-755c-49ae-b04e-a087f68efa39"
      },
      "source": [
        "print(\"Hola mundo desde Python\")"
      ],
      "execution_count": 1,
      "outputs": [
        {
          "output_type": "stream",
          "text": [
            "Hola mundo desde Python\n"
          ],
          "name": "stdout"
        }
      ]
    }
  ]
}